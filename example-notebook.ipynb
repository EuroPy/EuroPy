{
 "cells": [
  {
   "cell_type": "code",
   "execution_count": 1,
   "metadata": {},
   "outputs": [
    {
     "name": "stdout",
     "output_type": "stream",
     "text": [
      "zip_safe flag not set; analyzing archive contents...\r\n",
      "tests.__pycache__.conftest.cpython-38: module references __file__\r\n"
     ]
    }
   ],
   "source": [
    "!python setup.py -q install"
   ]
  },
  {
   "cell_type": "code",
   "execution_count": 2,
   "metadata": {
    "pycharm": {
     "name": "#%%\n"
    }
   },
   "outputs": [],
   "source": [
    "from europy.utils import load_global_params\n",
    "from europy.decorators import bias, fairness, unit, integration, using_params, report_plt\n",
    "from europy.lifecycle.reporting import execute_tests"
   ]
  },
  {
   "cell_type": "code",
   "execution_count": 3,
   "metadata": {},
   "outputs": [
    {
     "name": "stdout",
     "output_type": "stream",
     "text": [
      "========= EuroPy Captured Params: (global) =========\n",
      "  - global.a_global_param: 1e-06\n"
     ]
    }
   ],
   "source": [
    "params = load_global_params('tests/param_example.yml')"
   ]
  },
  {
   "cell_type": "code",
   "execution_count": 4,
   "metadata": {
    "pycharm": {
     "name": "#%%\n"
    }
   },
   "outputs": [],
   "source": [
    "@bias(\"ex test\", \"lorem ipsum\")\n",
    "@fairness()\n",
    "@unit()\n",
    "def example_test(input):\n",
    "    return input\n",
    "\n",
    "@integration()\n",
    "@bias(\"ex failed test\", \"This test should fail\")\n",
    "def example_failure(input):\n",
    "    assert input % 2 == 1"
   ]
  },
  {
   "cell_type": "code",
   "execution_count": 5,
   "metadata": {
    "pycharm": {
     "name": "#%%\n"
    }
   },
   "outputs": [
    {
     "name": "stdout",
     "output_type": "stream",
     "text": [
      "Execute - ex test (['unit', 'fairness', 'bias'])\n",
      "\tPASS\n",
      "Execute - ex failed test (['bias', 'integration'])\n",
      "\tFAIL\n",
      "========= EuroPy Test Results =========\n",
      "Total Tests: 2\n",
      "Passing: 1\n",
      "Failing: 1\n"
     ]
    },
    {
     "data": {
      "text/html": [
       "<div>\n",
       "<style scoped>\n",
       "    .dataframe tbody tr th:only-of-type {\n",
       "        vertical-align: middle;\n",
       "    }\n",
       "\n",
       "    .dataframe tbody tr th {\n",
       "        vertical-align: top;\n",
       "    }\n",
       "\n",
       "    .dataframe thead th {\n",
       "        text-align: right;\n",
       "    }\n",
       "</style>\n",
       "<table border=\"1\" class=\"dataframe\">\n",
       "  <thead>\n",
       "    <tr style=\"text-align: right;\">\n",
       "      <th></th>\n",
       "      <th>key</th>\n",
       "      <th>description</th>\n",
       "      <th>labels</th>\n",
       "      <th>result</th>\n",
       "      <th>success</th>\n",
       "    </tr>\n",
       "  </thead>\n",
       "  <tbody>\n",
       "    <tr>\n",
       "      <th>0</th>\n",
       "      <td>ex test</td>\n",
       "      <td>lorem ipsum</td>\n",
       "      <td>[unit, fairness, bias]</td>\n",
       "      <td>2</td>\n",
       "      <td>True</td>\n",
       "    </tr>\n",
       "    <tr>\n",
       "      <th>1</th>\n",
       "      <td>ex failed test</td>\n",
       "      <td>This test should fail</td>\n",
       "      <td>[bias, integration]</td>\n",
       "      <td>&lt;class 'AssertionError'&gt;</td>\n",
       "      <td>False</td>\n",
       "    </tr>\n",
       "  </tbody>\n",
       "</table>\n",
       "</div>"
      ],
      "text/plain": [
       "              key            description                  labels  \\\n",
       "0         ex test            lorem ipsum  [unit, fairness, bias]   \n",
       "1  ex failed test  This test should fail     [bias, integration]   \n",
       "\n",
       "                     result  success  \n",
       "0                         2     True  \n",
       "1  <class 'AssertionError'>    False  "
      ]
     },
     "execution_count": 5,
     "metadata": {},
     "output_type": "execute_result"
    }
   ],
   "source": [
    "execute_tests(2)"
   ]
  },
  {
   "cell_type": "code",
   "execution_count": 6,
   "metadata": {
    "pycharm": {
     "name": "#%%\n"
    }
   },
   "outputs": [
    {
     "name": "stdout",
     "output_type": "stream",
     "text": [
      "========= EuroPy Captured Params: (test_params) =========\n",
      "  - global.a_global_param: 1e-06\n",
      "  - test_params.op1: 4\n",
      "  - test_params.op2: 3\n"
     ]
    },
    {
     "data": {
      "text/plain": [
       "1.333332888889037"
      ]
     },
     "execution_count": 6,
     "metadata": {},
     "output_type": "execute_result"
    }
   ],
   "source": [
    "@using_params('tests/param_example.yml')\n",
    "def test_params(op1: int=None, op2: int=None, a_global_param=None):\n",
    "    return op1 / (op2 + a_global_param)\n",
    "\n",
    "result = test_params()\n",
    "result"
   ]
  },
  {
   "cell_type": "code",
   "execution_count": 7,
   "metadata": {},
   "outputs": [
    {
     "name": "stdout",
     "output_type": "stream",
     "text": [
      "========= EuroPy Figure Capture: (example_figure) =========\n",
      "ReportFigure(\n",
      "\ttitle: fivethirtyeight fig,\n",
      "\tdescription: a really cool styled figure,\n",
      "\ttag: main_fig\n",
      ")\n"
     ]
    },
    {
     "data": {
      "image/png": "[encoded data removed]",
      "text/plain": [
       "<Figure size 432x288 with 1 Axes>"
      ]
     },
     "metadata": {},
     "output_type": "display_data"
    },
    {
     "data": {
      "text/plain": [
       "(<module 'matplotlib.pyplot' from '/Users/blaine/opt/anaconda3/envs/europy/lib/python3.8/site-packages/matplotlib/pyplot.py'>,\n",
       " ReportFigure(title: fivethirtyeight fig, description: a really cool styled figure, tag: main_fig))"
      ]
     },
     "execution_count": 7,
     "metadata": {},
     "output_type": "execute_result"
    }
   ],
   "source": [
    "@report_plt(\"example_figure\")\n",
    "def save_image_example(img_metadata=None):\n",
    "    import matplotlib.pyplot as plt\n",
    "    import numpy as np\n",
    "\n",
    "    plt.style.use('fivethirtyeight')\n",
    "\n",
    "    x = np.linspace(0, 10)\n",
    "\n",
    "    # Fixing random state for reproducibility\n",
    "    np.random.seed(19680801)\n",
    "\n",
    "    fig, ax = plt.subplots()\n",
    "\n",
    "    ax.plot(x, np.sin(x) + x + np.random.randn(50))\n",
    "    ax.plot(x, np.sin(x) + 0.5 * x + np.random.randn(50))\n",
    "    ax.plot(x, np.sin(x) + 2 * x + np.random.randn(50))\n",
    "    ax.plot(x, np.sin(x) - 0.5 * x + np.random.randn(50))\n",
    "    ax.plot(x, np.sin(x) - 2 * x + np.random.randn(50))\n",
    "    ax.plot(x, np.sin(x) + np.random.randn(50))\n",
    "    ax.set_title(\"'fivethirtyeight' style sheet\")\n",
    "    \n",
    "    img_metadata.title = \"fivethirtyeight fig\"\n",
    "    img_metadata.description = \"a really cool styled figure\"\n",
    "    img_metadata.tag = \"main_fig\"\n",
    "\n",
    "    return plt, img_metadata\n",
    "\n",
    "save_image_example()"
   ]
  },
  {
   "cell_type": "code",
   "execution_count": null,
   "metadata": {},
   "outputs": [],
   "source": []
  },
  {
   "cell_type": "code",
   "execution_count": null,
   "metadata": {},
   "outputs": [],
   "source": []
  },
  {
   "cell_type": "code",
   "execution_count": null,
   "metadata": {},
   "outputs": [],
   "source": []
  },
  {
   "cell_type": "code",
   "execution_count": null,
   "metadata": {},
   "outputs": [],
   "source": []
  }
 ],
 "metadata": {
  "kernelspec": {
   "display_name": "Python 3",
   "language": "python",
   "name": "python3"
  },
  "language_info": {
   "codemirror_mode": {
    "name": "ipython",
    "version": 3
   },
   "file_extension": ".py",
   "mimetype": "text/x-python",
   "name": "python",
   "nbconvert_exporter": "python",
   "pygments_lexer": "ipython3",
   "version": "3.8.5"
  }
 },
 "nbformat": 4,
 "nbformat_minor": 1
}
