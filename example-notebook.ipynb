{
 "cells": [
  {
   "cell_type": "code",
   "execution_count": 17,
   "metadata": {},
   "outputs": [
    {
     "name": "stdout",
     "output_type": "stream",
     "text": [
      "zip_safe flag not set; analyzing archive contents...\r\n",
      "tests.__pycache__.conftest.cpython-38: module references __file__\r\n"
     ]
    }
   ],
   "source": [
    "!python setup.py -q install"
   ]
  },
  {
   "cell_type": "code",
   "execution_count": 18,
   "metadata": {
    "pycharm": {
     "name": "#%%\n"
    }
   },
   "outputs": [],
   "source": [
    "from europy.decorator import bias, fairness, unit, integration, using_params\n",
    "from europy.lifecycle.reporting import execute_tests"
   ]
  },
  {
   "cell_type": "code",
   "execution_count": 19,
   "metadata": {
    "pycharm": {
     "name": "#%%\n"
    }
   },
   "outputs": [],
   "source": [
    "@bias(\"ex test\", \"lorem ipsum\")\n",
    "@fairness()\n",
    "@unit()\n",
    "def example_test(input=None):\n",
    "    return input\n",
    "\n",
    "@integration()\n",
    "@bias(\"ex failed test\", \"This test should fail\")\n",
    "def example_failure(input=None):\n",
    "    assert input % 2 == 1"
   ]
  },
  {
   "cell_type": "code",
   "execution_count": 20,
   "metadata": {
    "pycharm": {
     "name": "#%%\n"
    }
   },
   "outputs": [
    {
     "name": "stdout",
     "output_type": "stream",
     "text": [
      "========= EuroPy Captured Params: (test_params) =========\n",
      "  - global.a_global_param: 1e-06\n",
      "  - test_params.op1: 4\n",
      "  - test_params.op2: 3\n"
     ]
    },
    {
     "data": {
      "text/plain": "1.333332888889037"
     },
     "execution_count": 20,
     "metadata": {},
     "output_type": "execute_result"
    }
   ],
   "source": [
    "@using_params('tests/param_example.yml')\n",
    "def test_params(op1: int=None, op2: int=None, a_global_param=None):\n",
    "    return op1 / (op2 + a_global_param)\n",
    "\n",
    "result = test_params()\n",
    "result"
   ]
  },
  {
   "cell_type": "code",
   "execution_count": 21,
   "metadata": {},
   "outputs": [],
   "source": [
    "@bias(\"example_figure\")\n",
    "def save_image_example(plots: dict):\n",
    "    import matplotlib.pyplot as plt\n",
    "    import numpy as np\n",
    "\n",
    "    plt.style.use('fivethirtyeight')\n",
    "\n",
    "    x = np.linspace(0, 10)\n",
    "\n",
    "    # Fixing random state for reproducibility\n",
    "    np.random.seed(19680801)\n",
    "\n",
    "    fig, ax = plt.subplots()\n",
    "\n",
    "    ax.plot(x, np.sin(x) + x + np.random.randn(50))\n",
    "    ax.plot(x, np.sin(x) + 0.5 * x + np.random.randn(50))\n",
    "    ax.plot(x, np.sin(x) + 2 * x + np.random.randn(50))\n",
    "    ax.plot(x, np.sin(x) - 0.5 * x + np.random.randn(50))\n",
    "    ax.plot(x, np.sin(x) - 2 * x + np.random.randn(50))\n",
    "    ax.plot(x, np.sin(x) + np.random.randn(50))\n",
    "    ax.set_title(\"'fivethirtyeight' style sheet\")\n",
    "\n",
    "    plots['fivethirtyeight fig'] = plt"
   ]
  },
  {
   "cell_type": "code",
   "execution_count": 22,
   "metadata": {
    "pycharm": {
     "name": "#%%\n"
    }
   },
   "outputs": [
    {
     "name": "stdout",
     "output_type": "stream",
     "text": [
      "Execute - ex test (['unit', 'fairness', 'bias'])\n",
      "\tPASS\n",
      "Execute - ex failed test (['bias', 'integration'])\n",
      "\tPASS\n",
      "Execute - example_figure (['bias'])\n",
      "\tFAIL\n",
      "========= EuroPy Test Results =========\n",
      "Report output: file:///Users/matthewalvarez/Documents/projects/europy/EuroPy/.europy/reports/30112020_192948/report.json\n",
      "Total Tests: 3\n",
      "Passing: 2\n",
      "Failing: 1\n"
     ]
    },
    {
     "data": {
      "text/plain": "              key            description                  labels  \\\n0         ex test            lorem ipsum  [unit, fairness, bias]   \n1  ex failed test  This test should fail     [bias, integration]   \n2  example_figure                   None                  [bias]   \n\n                                              result figures  success  \n0                                                  1      []     True  \n1                                               None      []     True  \n2  [Traceback (most recent call last):\\n,   File ...      []    False  ",
      "text/html": "<div>\n<style scoped>\n    .dataframe tbody tr th:only-of-type {\n        vertical-align: middle;\n    }\n\n    .dataframe tbody tr th {\n        vertical-align: top;\n    }\n\n    .dataframe thead th {\n        text-align: right;\n    }\n</style>\n<table border=\"1\" class=\"dataframe\">\n  <thead>\n    <tr style=\"text-align: right;\">\n      <th></th>\n      <th>key</th>\n      <th>description</th>\n      <th>labels</th>\n      <th>result</th>\n      <th>figures</th>\n      <th>success</th>\n    </tr>\n  </thead>\n  <tbody>\n    <tr>\n      <th>0</th>\n      <td>ex test</td>\n      <td>lorem ipsum</td>\n      <td>[unit, fairness, bias]</td>\n      <td>1</td>\n      <td>[]</td>\n      <td>True</td>\n    </tr>\n    <tr>\n      <th>1</th>\n      <td>ex failed test</td>\n      <td>This test should fail</td>\n      <td>[bias, integration]</td>\n      <td>None</td>\n      <td>[]</td>\n      <td>True</td>\n    </tr>\n    <tr>\n      <th>2</th>\n      <td>example_figure</td>\n      <td>None</td>\n      <td>[bias]</td>\n      <td>[Traceback (most recent call last):\\n,   File ...</td>\n      <td>[]</td>\n      <td>False</td>\n    </tr>\n  </tbody>\n</table>\n</div>"
     },
     "execution_count": 22,
     "metadata": {},
     "output_type": "execute_result"
    }
   ],
   "source": [
    "execute_tests(clear=True, input=1)"
   ]
  },
  {
   "cell_type": "code",
   "execution_count": 23,
   "outputs": [
    {
     "name": "stdout",
     "output_type": "stream",
     "text": [
      "========= EuroPy Test Results =========\n",
      "Report output: file:///Users/matthewalvarez/Documents/projects/europy/EuroPy/.europy/reports/30112020_192948/report.json\n",
      "Total Tests: 0\n",
      "Passing: 0\n",
      "Failing: 0\n"
     ]
    },
    {
     "data": {
      "text/plain": "Empty DataFrame\nColumns: []\nIndex: []",
      "text/html": "<div>\n<style scoped>\n    .dataframe tbody tr th:only-of-type {\n        vertical-align: middle;\n    }\n\n    .dataframe tbody tr th {\n        vertical-align: top;\n    }\n\n    .dataframe thead th {\n        text-align: right;\n    }\n</style>\n<table border=\"1\" class=\"dataframe\">\n  <thead>\n    <tr style=\"text-align: right;\">\n      <th></th>\n    </tr>\n  </thead>\n  <tbody>\n  </tbody>\n</table>\n</div>"
     },
     "execution_count": 23,
     "metadata": {},
     "output_type": "execute_result"
    }
   ],
   "source": [
    "# This should have NO tests\n",
    "execute_tests(input=2)\n"
   ],
   "metadata": {
    "collapsed": false,
    "pycharm": {
     "name": "#%%\n"
    }
   }
  },
  {
   "cell_type": "code",
   "execution_count": 23,
   "outputs": [],
   "source": [],
   "metadata": {
    "collapsed": false,
    "pycharm": {
     "name": "#%%\n"
    }
   }
  }
 ],
 "metadata": {
  "kernelspec": {
   "display_name": "Python 3",
   "language": "python",
   "name": "python3"
  },
  "language_info": {
   "codemirror_mode": {
    "name": "ipython",
    "version": 3
   },
   "file_extension": ".py",
   "mimetype": "text/x-python",
   "name": "python",
   "nbconvert_exporter": "python",
   "pygments_lexer": "ipython3",
   "version": "3.8.5-final"
  }
 },
 "nbformat": 4,
 "nbformat_minor": 1
}