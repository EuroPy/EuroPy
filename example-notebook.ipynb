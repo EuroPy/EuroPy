{
 "cells": [
  {
   "cell_type": "code",
   "execution_count": 1,
   "metadata": {},
   "outputs": [
    {
     "output_type": "stream",
     "name": "stdout",
     "text": [
      "zip_safe flag not set; analyzing archive contents...\ntests.__pycache__.conftest.cpython-38: module references __file__\n"
     ]
    }
   ],
   "source": [
    "!python setup.py -q install"
   ]
  },
  {
   "cell_type": "code",
   "execution_count": 3,
   "metadata": {
    "pycharm": {
     "name": "#%%\n"
    }
   },
   "outputs": [],
   "source": [
    "from europy.decorator import bias, fairness, unit, integration, using_params, model_details\n",
    "from europy.lifecycle.reporting import execute_tests"
   ]
  },
  {
   "cell_type": "code",
   "execution_count": 10,
   "metadata": {
    "pycharm": {
     "name": "#%%\n"
    }
   },
   "outputs": [],
   "source": [
    "@model_details('tests/model_details_example.json')\n",
    "@bias(\"ex test\", \"lorem ipsum\")\n",
    "@fairness()\n",
    "@unit()\n",
    "def example_test(input=None):\n",
    "    return input\n",
    "\n",
    "@integration()\n",
    "@bias(\"ex failed test\", \"This test should fail\")\n",
    "def example_failure(input=None):\n",
    "    assert input % 2 == 1"
   ]
  },
  {
   "cell_type": "code",
   "execution_count": 11,
   "metadata": {
    "pycharm": {
     "name": "#%%\n"
    }
   },
   "outputs": [
    {
     "output_type": "stream",
     "name": "stdout",
     "text": [
      "========= EuroPy Captured Params: (test_params) =========\n  - global.a_global_param: 1e-06\n  - test_params.op1: 4\n  - test_params.op2: 3\n"
     ]
    },
    {
     "output_type": "execute_result",
     "data": {
      "text/plain": [
       "1.333332888889037"
      ]
     },
     "metadata": {},
     "execution_count": 11
    }
   ],
   "source": [
    "@using_params('tests/param_example.yml')\n",
    "def test_params(op1: int=None, op2: int=None, a_global_param=None):\n",
    "    return op1 / (op2 + a_global_param)\n",
    "\n",
    "result = test_params()\n",
    "result"
   ]
  },
  {
   "cell_type": "code",
   "execution_count": 12,
   "metadata": {},
   "outputs": [],
   "source": [
    "@bias(\"example_figure\")\n",
    "def save_image_example(plots: dict):\n",
    "    import matplotlib.pyplot as plt\n",
    "    import numpy as np\n",
    "\n",
    "    plt.style.use('fivethirtyeight')\n",
    "\n",
    "    x = np.linspace(0, 10)\n",
    "\n",
    "    # Fixing random state for reproducibility\n",
    "    np.random.seed(19680801)\n",
    "\n",
    "    fig, ax = plt.subplots()\n",
    "\n",
    "    ax.plot(x, np.sin(x) + x + np.random.randn(50))\n",
    "    ax.plot(x, np.sin(x) + 0.5 * x + np.random.randn(50))\n",
    "    ax.plot(x, np.sin(x) + 2 * x + np.random.randn(50))\n",
    "    ax.plot(x, np.sin(x) - 0.5 * x + np.random.randn(50))\n",
    "    ax.plot(x, np.sin(x) - 2 * x + np.random.randn(50))\n",
    "    ax.plot(x, np.sin(x) + np.random.randn(50))\n",
    "    ax.set_title(\"'fivethirtyeight' style sheet\")\n",
    "\n",
    "    plots['fivethirtyeight fig'] = plt"
   ]
  },
  {
   "cell_type": "code",
   "execution_count": 13,
   "metadata": {
    "pycharm": {
     "name": "#%%\n"
    }
   },
   "outputs": [
    {
     "output_type": "stream",
     "name": "stdout",
     "text": [
      "Execute - ex test (['unit', 'fairness', 'bias'])\n\tPASS\nExecute - ex failed test (['bias', 'integration'])\n\tPASS\nExecute - example_figure (['bias'])\n\tFAIL\n========= EuroPy Test Results =========\nReport output: file:///home/b/.europy/reports/05122020_105802/report.json\nTotal Tests: 3\nPassing: 2\nFailing: 1\n"
     ]
    },
    {
     "output_type": "execute_result",
     "data": {
      "text/plain": [
       "              key            description  ... figures success\n",
       "0         ex test            lorem ipsum  ...      []    True\n",
       "1  ex failed test  This test should fail  ...      []    True\n",
       "2  example_figure                   None  ...      []   False\n",
       "\n",
       "[3 rows x 6 columns]"
      ],
      "text/html": "<div>\n<style scoped>\n    .dataframe tbody tr th:only-of-type {\n        vertical-align: middle;\n    }\n\n    .dataframe tbody tr th {\n        vertical-align: top;\n    }\n\n    .dataframe thead th {\n        text-align: right;\n    }\n</style>\n<table border=\"1\" class=\"dataframe\">\n  <thead>\n    <tr style=\"text-align: right;\">\n      <th></th>\n      <th>key</th>\n      <th>description</th>\n      <th>labels</th>\n      <th>result</th>\n      <th>figures</th>\n      <th>success</th>\n    </tr>\n  </thead>\n  <tbody>\n    <tr>\n      <th>0</th>\n      <td>ex test</td>\n      <td>lorem ipsum</td>\n      <td>[unit, fairness, bias]</td>\n      <td>1</td>\n      <td>[]</td>\n      <td>True</td>\n    </tr>\n    <tr>\n      <th>1</th>\n      <td>ex failed test</td>\n      <td>This test should fail</td>\n      <td>[bias, integration]</td>\n      <td>None</td>\n      <td>[]</td>\n      <td>True</td>\n    </tr>\n    <tr>\n      <th>2</th>\n      <td>example_figure</td>\n      <td>None</td>\n      <td>[bias]</td>\n      <td>[Traceback (most recent call last):\\n,   File ...</td>\n      <td>[]</td>\n      <td>False</td>\n    </tr>\n  </tbody>\n</table>\n</div>"
     },
     "metadata": {},
     "execution_count": 13
    }
   ],
   "source": [
    "execute_tests(clear=True, input=1)"
   ]
  },
  {
   "cell_type": "code",
   "execution_count": 8,
   "outputs": [
    {
     "output_type": "stream",
     "name": "stdout",
     "text": [
      "========= EuroPy Test Results =========\nReport output: file:///home/b/.europy/reports/05122020_105655/report.json\nTotal Tests: 0\nPassing: 0\nFailing: 0\n"
     ]
    },
    {
     "output_type": "execute_result",
     "data": {
      "text/plain": [
       "Empty DataFrame\n",
       "Columns: []\n",
       "Index: []"
      ],
      "text/html": "<div>\n<style scoped>\n    .dataframe tbody tr th:only-of-type {\n        vertical-align: middle;\n    }\n\n    .dataframe tbody tr th {\n        vertical-align: top;\n    }\n\n    .dataframe thead th {\n        text-align: right;\n    }\n</style>\n<table border=\"1\" class=\"dataframe\">\n  <thead>\n    <tr style=\"text-align: right;\">\n      <th></th>\n    </tr>\n  </thead>\n  <tbody>\n  </tbody>\n</table>\n</div>"
     },
     "metadata": {},
     "execution_count": 8
    }
   ],
   "source": [
    "# This should have NO tests\n",
    "execute_tests(input=2)\n"
   ],
   "metadata": {
    "collapsed": false,
    "pycharm": {
     "name": "#%%\n"
    }
   }
  },
  {
   "cell_type": "code",
   "execution_count": 23,
   "outputs": [],
   "source": [],
   "metadata": {
    "collapsed": false,
    "pycharm": {
     "name": "#%%\n"
    }
   }
  }
 ],
 "metadata": {
  "kernelspec": {
   "display_name": "Python 3",
   "language": "python",
   "name": "python3"
  },
  "language_info": {
   "codemirror_mode": {
    "name": "ipython",
    "version": 3
   },
   "file_extension": ".py",
   "mimetype": "text/x-python",
   "name": "python",
   "nbconvert_exporter": "python",
   "pygments_lexer": "ipython3",
   "version": "3.8.6-final"
  }
 },
 "nbformat": 4,
 "nbformat_minor": 1
}