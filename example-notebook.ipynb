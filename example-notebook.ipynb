{
 "cells": [
  {
   "cell_type": "code",
   "execution_count": 5,
   "metadata": {},
   "outputs": [
    {
     "name": "stdout",
     "output_type": "stream",
     "text": [
      "zip_safe flag not set; analyzing archive contents...\r\n",
      "tests.__pycache__.conftest.cpython-38: module references __file__\r\n"
     ]
    }
   ],
   "source": [
    "!python setup.py -q install"
   ]
  },
  {
   "cell_type": "code",
   "execution_count": 6,
   "metadata": {
    "pycharm": {
     "name": "#%%\n"
    }
   },
   "outputs": [],
   "source": [
    "from europy.decorators import bias, fairness, unit, integration\n",
    "from europy.lifecycle.reporting import execute_tests\n"
   ]
  },
  {
   "cell_type": "code",
   "execution_count": 7,
   "metadata": {
    "pycharm": {
     "name": "#%%\n"
    }
   },
   "outputs": [],
   "source": [
    "@bias(\"ex test\", \"lorem ipsum\")\n",
    "@fairness()\n",
    "@unit()\n",
    "def example_test(input):\n",
    "    return input\n",
    "\n",
    "@integration()\n",
    "@bias(\"ex failed test\", \"This test should fail\")\n",
    "def example_failure(input):\n",
    "    assert input % 2 == 1"
   ]
  },
  {
   "cell_type": "code",
   "execution_count": 8,
   "metadata": {
    "pycharm": {
     "name": "#%%\n"
    }
   },
   "outputs": [
    {
     "name": "stdout",
     "output_type": "stream",
     "text": [
      "Execute - ex test (['unit', 'fairness', 'bias', 'unit', 'fairness', 'bias'])\n",
      "\tPASS\n",
      "Execute - ex failed test (['bias', 'integration', 'bias', 'integration'])\n",
      "\tFAIL\n",
      "========= EuroPy Test Results =========\n",
      "Total Tests: 2\n",
      "Passing: 1\n",
      "Failing: 1\n"
     ]
    },
    {
     "data": {
      "text/plain": "              key            description  \\\n0         ex test            lorem ipsum   \n1  ex failed test  This test should fail   \n\n                                         labels                    result  \\\n0  [unit, fairness, bias, unit, fairness, bias]                         2   \n1        [bias, integration, bias, integration]  <class 'AssertionError'>   \n\n   success  \n0     True  \n1    False  ",
      "text/html": "<div>\n<style scoped>\n    .dataframe tbody tr th:only-of-type {\n        vertical-align: middle;\n    }\n\n    .dataframe tbody tr th {\n        vertical-align: top;\n    }\n\n    .dataframe thead th {\n        text-align: right;\n    }\n</style>\n<table border=\"1\" class=\"dataframe\">\n  <thead>\n    <tr style=\"text-align: right;\">\n      <th></th>\n      <th>key</th>\n      <th>description</th>\n      <th>labels</th>\n      <th>result</th>\n      <th>success</th>\n    </tr>\n  </thead>\n  <tbody>\n    <tr>\n      <th>0</th>\n      <td>ex test</td>\n      <td>lorem ipsum</td>\n      <td>[unit, fairness, bias, unit, fairness, bias]</td>\n      <td>2</td>\n      <td>True</td>\n    </tr>\n    <tr>\n      <th>1</th>\n      <td>ex failed test</td>\n      <td>This test should fail</td>\n      <td>[bias, integration, bias, integration]</td>\n      <td>&lt;class 'AssertionError'&gt;</td>\n      <td>False</td>\n    </tr>\n  </tbody>\n</table>\n</div>"
     },
     "execution_count": 8,
     "metadata": {},
     "output_type": "execute_result"
    }
   ],
   "source": [
    "execute_tests(2)"
   ]
  },
  {
   "cell_type": "code",
   "execution_count": 8,
   "metadata": {
    "pycharm": {
     "name": "#%%\n"
    }
   },
   "outputs": [],
   "source": []
  }
 ],
 "metadata": {
  "kernelspec": {
   "display_name": "Python 3",
   "language": "python",
   "name": "python3"
  },
  "language_info": {
   "codemirror_mode": {
    "name": "ipython",
    "version": 3
   },
   "file_extension": ".py",
   "mimetype": "text/x-python",
   "name": "python",
   "nbconvert_exporter": "python",
   "pygments_lexer": "ipython3",
   "version": "3.8.3"
  }
 },
 "nbformat": 4,
 "nbformat_minor": 1
}