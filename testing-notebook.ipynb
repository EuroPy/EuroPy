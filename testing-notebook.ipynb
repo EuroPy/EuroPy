{
 "cells": [
  {
   "cell_type": "code",
   "execution_count": 1,
   "metadata": {},
   "outputs": [
    {
     "name": "stdout",
     "output_type": "stream",
     "text": [
      "zip_safe flag not set; analyzing archive contents...\r\n",
      "tests.__pycache__.conftest.cpython-38: module references __file__\r\n"
     ]
    }
   ],
   "source": [
    "!python3 setup.py -q install"
   ]
  },
  {
   "cell_type": "code",
   "execution_count": 2,
   "metadata": {
    "pycharm": {
     "name": "#%%\n"
    }
   },
   "outputs": [],
   "source": [
    "from europy.lifecycle.reporting import report_model_params, report_model_details"
   ]
  },
  {
   "cell_type": "code",
   "execution_count": 3,
   "metadata": {},
   "outputs": [
    {
     "name": "stdout",
     "output_type": "stream",
     "text": [
      "Execute - My example bias test (['bias'])\n",
      "\tFAIL\n",
      "Execute - My example fairness test that fails (['bias', 'fairness'])\n",
      "\tPASS\n",
      "Execute - example_figure (['bias'])\n",
      "\tFAIL\n",
      "========= EuroPy Test Results =========\n",
      "Total Tests: 3\n",
      "Passing: 1\n",
      "Failing: 2\n",
      "========= EuroPy Report Generated =========\n",
      "Report output: file:///Users/matthewalvarez/Documents/projects/europy/EuroPy/.europy/reports/EuroPy_Test_Report_05122020_155803/report.md\n"
     ]
    }
   ],
   "source": [
    "from europy.decorator import bias, fairness\n",
    "from europy.lifecycle.reporting import execute_tests, generate_report\n",
    "\n",
    "@bias(\"My example bias test\", \"Lorem ipsum dolor sit amet, consectetur adipiscing elit.\")\n",
    "def foo(input):\n",
    "    assert input % 2 == 0\n",
    "    return input\n",
    "\n",
    "@fairness(\"My example fairness test that fails\")\n",
    "@bias()\n",
    "def foo_failure(input):\n",
    "    assert input % 2 == 1\n",
    "    return input\n",
    "\n",
    "@bias(\"example_figure\")\n",
    "def save_image_example(plots: dict):\n",
    "    import matplotlib.pyplot as plt\n",
    "    import numpy as np\n",
    "\n",
    "    plt.style.use('fivethirtyeight')\n",
    "\n",
    "    x = np.linspace(0, 10)\n",
    "\n",
    "    # Fixing random state for reproducibility\n",
    "    np.random.seed(19680801)\n",
    "\n",
    "    fig, ax = plt.subplots()\n",
    "\n",
    "    ax.plot(x, np.sin(x) + x + np.random.randn(50))\n",
    "    ax.plot(x, np.sin(x) + 0.5 * x + np.random.randn(50))\n",
    "    ax.plot(x, np.sin(x) + 2 * x + np.random.randn(50))\n",
    "    ax.plot(x, np.sin(x) - 0.5 * x + np.random.randn(50))\n",
    "    ax.plot(x, np.sin(x) - 2 * x + np.random.randn(50))\n",
    "    ax.plot(x, np.sin(x) + np.random.randn(50))\n",
    "    ax.set_title(\"'fivethirtyeight' style sheet\")\n",
    "\n",
    "    plots['fivethirtyeight fig'] = plt\n",
    "\n",
    "\n",
    "report_model_params('tests/param_example.yml')\n",
    "report_model_details('tests/model_details_example.yml')\n",
    "execute_tests(clear=True, input=1)\n",
    "generate_report(export_type='markdown', clear_report=True)\n"
   ]
  },
  {
   "cell_type": "code",
   "execution_count": null,
   "outputs": [],
   "source": [],
   "metadata": {
    "collapsed": false,
    "pycharm": {
     "name": "#%%\n"
    }
   }
  },
  {
   "cell_type": "code",
   "execution_count": null,
   "metadata": {},
   "outputs": [],
   "source": []
  }
 ],
 "metadata": {
  "kernelspec": {
   "display_name": "Python 3",
   "language": "python",
   "name": "python3"
  },
  "language_info": {
   "codemirror_mode": {
    "name": "ipython",
    "version": 3
   },
   "file_extension": ".py",
   "mimetype": "text/x-python",
   "name": "python",
   "nbconvert_exporter": "python",
   "pygments_lexer": "ipython3",
   "version": "3.8.3"
  }
 },
 "nbformat": 4,
 "nbformat_minor": 1
}