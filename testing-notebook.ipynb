{
 "cells": [
  {
   "cell_type": "code",
   "execution_count": 6,
   "metadata": {},
   "outputs": [
    {
     "name": "stdout",
     "output_type": "stream",
     "text": [
      "zip_safe flag not set; analyzing archive contents...\r\n",
      "tests.__pycache__.conftest.cpython-38: module references __file__\r\n"
     ]
    }
   ],
   "source": [
    "!python3 setup.py -q install"
   ]
  },
  {
   "cell_type": "code",
   "execution_count": 7,
   "metadata": {
    "pycharm": {
     "name": "#%%\n"
    }
   },
   "outputs": [],
   "source": [
    "from europy.lifecycle.reporting import report_model_params, report_model_details"
   ]
  },
  {
   "cell_type": "code",
   "execution_count": 8,
   "metadata": {},
   "outputs": [
    {
     "name": "stdout",
     "output_type": "stream",
     "text": [
      "Execute - My example bias test (['bias'])\n",
      "\tFAIL\n",
      "Execute - My example fairness test that fails (['bias', 'fairness'])\n",
      "\tPASS\n",
      "Execute - example_figure (['bias'])\n",
      "\tFAIL\n",
      "========= EuroPy Test Results =========\n",
      "Total Tests: 3\n",
      "Passing: 1\n",
      "Failing: 2\n"

     ]
    },
    {
     "data": {
      "text/plain": "                                   key  \\\n0                 My example bias test   \n1  My example fairness test that fails   \n2                       example_figure   \n\n                                         description            labels  \\\n0  Lorem ipsum dolor sit amet, consectetur adipis...            [bias]   \n1                                                     [bias, fairness]   \n2                                                               [bias]   \n\n                                              result figures  success  \n0  [Traceback (most recent call last):\\n,   File ...      []    False  \n1                                                  1      []     True  \n2  [Traceback (most recent call last):\\n,   File ...      []    False  ",
      "text/html": "<div>\n<style scoped>\n    .dataframe tbody tr th:only-of-type {\n        vertical-align: middle;\n    }\n\n    .dataframe tbody tr th {\n        vertical-align: top;\n    }\n\n    .dataframe thead th {\n        text-align: right;\n    }\n</style>\n<table border=\"1\" class=\"dataframe\">\n  <thead>\n    <tr style=\"text-align: right;\">\n      <th></th>\n      <th>key</th>\n      <th>description</th>\n      <th>labels</th>\n      <th>result</th>\n      <th>figures</th>\n      <th>success</th>\n    </tr>\n  </thead>\n  <tbody>\n    <tr>\n      <th>0</th>\n      <td>My example bias test</td>\n      <td>Lorem ipsum dolor sit amet, consectetur adipis...</td>\n      <td>[bias]</td>\n      <td>[Traceback (most recent call last):\\n,   File ...</td>\n      <td>[]</td>\n      <td>False</td>\n    </tr>\n    <tr>\n      <th>1</th>\n      <td>My example fairness test that fails</td>\n      <td></td>\n      <td>[bias, fairness]</td>\n      <td>1</td>\n      <td>[]</td>\n      <td>True</td>\n    </tr>\n    <tr>\n      <th>2</th>\n      <td>example_figure</td>\n      <td></td>\n      <td>[bias]</td>\n      <td>[Traceback (most recent call last):\\n,   File ...</td>\n      <td>[]</td>\n      <td>False</td>\n    </tr>\n  </tbody>\n</table>\n</div>"
     },
     "execution_count": 8,
     "metadata": {},
     "output_type": "execute_result"
    }
   ],
   "source": [
    "from europy.decorator import bias, fairness\n",
    "from europy.lifecycle.reporting import execute_tests, generate_report\n",
    "\n",
    "@bias(\"My example bias test\", \"Lorem ipsum dolor sit amet, consectetur adipiscing elit.\")\n",
    "def foo(input):\n",
    "    assert input % 2 == 0\n",
    "    return input\n",
    "\n",
    "@fairness(\"My example fairness test that fails\")\n",
    "@bias()\n",
    "def foo_failure(input):\n",
    "    assert input % 2 == 1\n",
    "    return input\n",
    "\n",

    "@bias(\"example_figure\")\n",
    "def save_image_example(plots: dict):\n",
    "    import matplotlib.pyplot as plt\n",
    "    import numpy as np\n",
    "\n",
    "    plt.style.use('fivethirtyeight')\n",
    "\n",
    "    x = np.linspace(0, 10)\n",
    "\n",
    "    # Fixing random state for reproducibility\n",
    "    np.random.seed(19680801)\n",
    "\n",
    "    fig, ax = plt.subplots()\n",
    "\n",
    "    ax.plot(x, np.sin(x) + x + np.random.randn(50))\n",
    "    ax.plot(x, np.sin(x) + 0.5 * x + np.random.randn(50))\n",
    "    ax.plot(x, np.sin(x) + 2 * x + np.random.randn(50))\n",
    "    ax.plot(x, np.sin(x) - 0.5 * x + np.random.randn(50))\n",
    "    ax.plot(x, np.sin(x) - 2 * x + np.random.randn(50))\n",
    "    ax.plot(x, np.sin(x) + np.random.randn(50))\n",
    "    ax.set_title(\"'fivethirtyeight' style sheet\")\n",
    "\n",
    "    plots['fivethirtyeight fig'] = plt\n",
    "\n",
    "\n",
    "report_model_params('tests/param_example.yml')\n",
    "report_model_details('tests/model_details_example.yml')\n",
    "execute_tests(clear=True, input=1)"
   ]
  },
  {
   "cell_type": "code",
   "execution_count": 9,
   "outputs": [
    {
     "name": "stdout",
     "output_type": "stream",
     "text": [
      "========= EuroPy Report Generated =========\n",
      "Report output: file:///Users/matthewalvarez/Documents/projects/europy/EuroPy/.europy/reports/EuroPy_Test_Report_05122020_155958/report.md\n"
     ]
    }
   ],
   "source": [
    "generate_report(export_type='markdown', clear_report=True)\n",
    "\n"
   ],
   "metadata": {
    "collapsed": false,
    "pycharm": {
     "name": "#%%\n"
    }
   }
  },
  {
   "cell_type": "code",
   "execution_count": null,
   "metadata": {},
   "outputs": [],
   "source": []
  }
 ],
 "metadata": {
  "kernelspec": {
   "display_name": "Python 3",
   "language": "python",
   "name": "python3"
  },
  "language_info": {
   "codemirror_mode": {
    "name": "ipython",
    "version": 3
   },
   "file_extension": ".py",
   "mimetype": "text/x-python",
   "name": "python",
   "nbconvert_exporter": "python",
   "pygments_lexer": "ipython3",
   "version": "3.8.3"
  }
 },
 "nbformat": 4,
 "nbformat_minor": 1
}